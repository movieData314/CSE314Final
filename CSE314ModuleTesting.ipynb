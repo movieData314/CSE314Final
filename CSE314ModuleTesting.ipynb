{
 "cells": [
  {
   "cell_type": "code",
   "execution_count": 2,
   "id": "f8451c3d",
   "metadata": {},
   "outputs": [
    {
     "ename": "ModuleNotFoundError",
     "evalue": "No module named 'plotly'",
     "output_type": "error",
     "traceback": [
      "\u001b[0;31m---------------------------------------------------------------------------\u001b[0m",
      "\u001b[0;31mModuleNotFoundError\u001b[0m                       Traceback (most recent call last)",
      "Cell \u001b[0;32mIn [2], line 1\u001b[0m\n\u001b[0;32m----> 1\u001b[0m \u001b[39mimport\u001b[39;00m \u001b[39mplotly\u001b[39;00m\u001b[39m.\u001b[39;00m\u001b[39mexpress\u001b[39;00m \u001b[39mas\u001b[39;00m \u001b[39mpx\u001b[39;00m\n\u001b[1;32m      2\u001b[0m \u001b[39mfrom\u001b[39;00m \u001b[39mdash\u001b[39;00m \u001b[39mimport\u001b[39;00m dcc\n\u001b[1;32m      3\u001b[0m \u001b[39mfrom\u001b[39;00m \u001b[39mdash\u001b[39;00m \u001b[39mimport\u001b[39;00m html\n",
      "\u001b[0;31mModuleNotFoundError\u001b[0m: No module named 'plotly'"
     ]
    }
   ],
   "source": [
    "import pandas as pd\n",
    "import numpy as np\n",
    "import glob\n",
    "import json"
   ]
  },
  {
   "cell_type": "markdown",
   "id": "784c5e54",
   "metadata": {},
   "source": [
    "# RDlite Examples"
   ]
  },
  {
   "cell_type": "code",
   "execution_count": 4,
   "id": "aea260b3",
   "metadata": {},
   "outputs": [
    {
     "name": "stdout",
     "output_type": "stream",
     "text": [
      "The autoreload extension is already loaded. To reload it, use:\n",
      "  %reload_ext autoreload\n"
     ]
    }
   ],
   "source": [
    "%load_ext autoreload\n",
    "%autoreload 2\n",
    "\n",
    "import RDlite.accessor as ac\n",
    "from RDlite import mapping\n",
    "from RDlite import all_features"
   ]
  },
  {
   "cell_type": "code",
   "execution_count": 6,
   "id": "650f4c54",
   "metadata": {},
   "outputs": [
    {
     "data": {
      "text/plain": [
       "dict_keys(['id', 'company', 'genre', 'keyword', 'language', 'rating', 'country', 'name', 'character', 'gender', 'adult', 'budget', 'imdb_id', 'original_language', 'original_title', 'overview', 'popularity', 'release_date', 'revenue', 'runtime', 'status', 'title', 'video', 'vote_average', 'vote_count', 'collection'])"
      ]
     },
     "execution_count": 6,
     "metadata": {},
     "output_type": "execute_result"
    }
   ],
   "source": [
    "all_features"
   ]
  },
  {
   "cell_type": "markdown",
   "id": "233e233c",
   "metadata": {},
   "source": [
    "You may access the local data by specifying the feature names. If the peek keyword is set to true, the function only retrieves the first 50 rows to save time and memory. It is useful to get some sense of the data by browsing through examples."
   ]
  },
  {
   "cell_type": "code",
   "execution_count": 10,
   "id": "146f83e5",
   "metadata": {
    "scrolled": false
   },
   "outputs": [
    {
     "data": {
      "text/html": [
       "<div>\n",
       "<style scoped>\n",
       "    .dataframe tbody tr th:only-of-type {\n",
       "        vertical-align: middle;\n",
       "    }\n",
       "\n",
       "    .dataframe tbody tr th {\n",
       "        vertical-align: top;\n",
       "    }\n",
       "\n",
       "    .dataframe thead th {\n",
       "        text-align: right;\n",
       "    }\n",
       "</style>\n",
       "<table border=\"1\" class=\"dataframe\">\n",
       "  <thead>\n",
       "    <tr style=\"text-align: right;\">\n",
       "      <th></th>\n",
       "      <th>genre</th>\n",
       "      <th>company</th>\n",
       "    </tr>\n",
       "    <tr>\n",
       "      <th>id</th>\n",
       "      <th></th>\n",
       "      <th></th>\n",
       "    </tr>\n",
       "  </thead>\n",
       "  <tbody>\n",
       "    <tr>\n",
       "      <th>862</th>\n",
       "      <td>ANIMATION</td>\n",
       "      <td>PIXAR ANIMATION STUDIOS</td>\n",
       "    </tr>\n",
       "    <tr>\n",
       "      <th>8844</th>\n",
       "      <td>ADVENTURE</td>\n",
       "      <td>TRISTAR PICTURES</td>\n",
       "    </tr>\n",
       "    <tr>\n",
       "      <th>15602</th>\n",
       "      <td>ROMANCE</td>\n",
       "      <td>WARNER BROS.</td>\n",
       "    </tr>\n",
       "    <tr>\n",
       "      <th>31357</th>\n",
       "      <td>COMEDY</td>\n",
       "      <td>TWENTIETH CENTURY FOX FILM CORPORATION</td>\n",
       "    </tr>\n",
       "    <tr>\n",
       "      <th>11862</th>\n",
       "      <td>COMEDY</td>\n",
       "      <td>SANDOLLAR PRODUCTIONS</td>\n",
       "    </tr>\n",
       "    <tr>\n",
       "      <th>949</th>\n",
       "      <td>ACTION</td>\n",
       "      <td>REGENCY ENTERPRISES</td>\n",
       "    </tr>\n",
       "    <tr>\n",
       "      <th>11860</th>\n",
       "      <td>COMEDY</td>\n",
       "      <td>PARAMOUNT PICTURES</td>\n",
       "    </tr>\n",
       "    <tr>\n",
       "      <th>45325</th>\n",
       "      <td>ACTION</td>\n",
       "      <td>WALT DISNEY PICTURES</td>\n",
       "    </tr>\n",
       "    <tr>\n",
       "      <th>9091</th>\n",
       "      <td>ACTION</td>\n",
       "      <td>UNIVERSAL PICTURES</td>\n",
       "    </tr>\n",
       "    <tr>\n",
       "      <th>710</th>\n",
       "      <td>ADVENTURE</td>\n",
       "      <td>UNITED ARTISTS</td>\n",
       "    </tr>\n",
       "    <tr>\n",
       "      <th>9087</th>\n",
       "      <td>COMEDY</td>\n",
       "      <td>COLUMBIA PICTURES</td>\n",
       "    </tr>\n",
       "    <tr>\n",
       "      <th>12110</th>\n",
       "      <td>COMEDY</td>\n",
       "      <td>COLUMBIA PICTURES</td>\n",
       "    </tr>\n",
       "    <tr>\n",
       "      <th>21032</th>\n",
       "      <td>FAMILY</td>\n",
       "      <td>UNIVERSAL PICTURES</td>\n",
       "    </tr>\n",
       "    <tr>\n",
       "      <th>10858</th>\n",
       "      <td>HISTORY</td>\n",
       "      <td>HOLLYWOOD PICTURES</td>\n",
       "    </tr>\n",
       "    <tr>\n",
       "      <th>1408</th>\n",
       "      <td>ACTION</td>\n",
       "      <td>LE STUDIO CANAL+</td>\n",
       "    </tr>\n",
       "    <tr>\n",
       "      <th>524</th>\n",
       "      <td>DRAMA</td>\n",
       "      <td>UNIVERSAL PICTURES</td>\n",
       "    </tr>\n",
       "    <tr>\n",
       "      <th>4584</th>\n",
       "      <td>DRAMA</td>\n",
       "      <td>COLUMBIA PICTURES CORPORATION</td>\n",
       "    </tr>\n",
       "    <tr>\n",
       "      <th>5</th>\n",
       "      <td>CRIME</td>\n",
       "      <td>MIRAMAX FILMS</td>\n",
       "    </tr>\n",
       "    <tr>\n",
       "      <th>9273</th>\n",
       "      <td>CRIME</td>\n",
       "      <td>O ENTERTAINMENT</td>\n",
       "    </tr>\n",
       "    <tr>\n",
       "      <th>11517</th>\n",
       "      <td>ACTION</td>\n",
       "      <td>COLUMBIA PICTURES</td>\n",
       "    </tr>\n",
       "    <tr>\n",
       "      <th>8012</th>\n",
       "      <td>COMEDY</td>\n",
       "      <td>JERSEY FILMS</td>\n",
       "    </tr>\n",
       "    <tr>\n",
       "      <th>1710</th>\n",
       "      <td>DRAMA</td>\n",
       "      <td>REGENCY ENTERPRISES</td>\n",
       "    </tr>\n",
       "    <tr>\n",
       "      <th>9691</th>\n",
       "      <td>ACTION</td>\n",
       "      <td>SILVER PICTURES</td>\n",
       "    </tr>\n",
       "    <tr>\n",
       "      <th>12665</th>\n",
       "      <td>DRAMA</td>\n",
       "      <td>CARAVAN PICTURES</td>\n",
       "    </tr>\n",
       "    <tr>\n",
       "      <th>451</th>\n",
       "      <td>DRAMA</td>\n",
       "      <td>UNITED ARTISTS</td>\n",
       "    </tr>\n",
       "    <tr>\n",
       "      <th>16420</th>\n",
       "      <td>DRAMA</td>\n",
       "      <td>COLUMBIA PICTURES</td>\n",
       "    </tr>\n",
       "    <tr>\n",
       "      <th>9263</th>\n",
       "      <td>COMEDY</td>\n",
       "      <td>NEW LINE CINEMA</td>\n",
       "    </tr>\n",
       "    <tr>\n",
       "      <th>17015</th>\n",
       "      <td>DRAMA</td>\n",
       "      <td>BBC FILMS</td>\n",
       "    </tr>\n",
       "    <tr>\n",
       "      <th>902</th>\n",
       "      <td>FANTASY</td>\n",
       "      <td>PROCIREP</td>\n",
       "    </tr>\n",
       "    <tr>\n",
       "      <th>37557</th>\n",
       "      <td>DRAMA</td>\n",
       "      <td>MINISTÈRE DES AFFAIRES ÉTRANGÈRES</td>\n",
       "    </tr>\n",
       "    <tr>\n",
       "      <th>9909</th>\n",
       "      <td>DRAMA</td>\n",
       "      <td>HOLLYWOOD PICTURES</td>\n",
       "    </tr>\n",
       "    <tr>\n",
       "      <th>63</th>\n",
       "      <td>SCIENCE FICTION</td>\n",
       "      <td>UNIVERSAL PICTURES</td>\n",
       "    </tr>\n",
       "    <tr>\n",
       "      <th>78802</th>\n",
       "      <td>ROMANCE</td>\n",
       "      <td>IWERKS ENTERTAINMENT</td>\n",
       "    </tr>\n",
       "    <tr>\n",
       "      <th>9598</th>\n",
       "      <td>FANTASY</td>\n",
       "      <td>UNIVERSAL PICTURES</td>\n",
       "    </tr>\n",
       "    <tr>\n",
       "      <th>47018</th>\n",
       "      <td>HISTORY</td>\n",
       "      <td>STUDIOCANAL</td>\n",
       "    </tr>\n",
       "    <tr>\n",
       "      <th>687</th>\n",
       "      <td>DRAMA</td>\n",
       "      <td>HAVOC</td>\n",
       "    </tr>\n",
       "    <tr>\n",
       "      <th>139405</th>\n",
       "      <td>ADVENTURE</td>\n",
       "      <td>SONY NEW TECHNOLOGIES</td>\n",
       "    </tr>\n",
       "    <tr>\n",
       "      <th>33689</th>\n",
       "      <td>COMEDY</td>\n",
       "      <td>DUALSTAR PRODUCTIONS</td>\n",
       "    </tr>\n",
       "    <tr>\n",
       "      <th>9603</th>\n",
       "      <td>COMEDY</td>\n",
       "      <td>PARAMOUNT PICTURES</td>\n",
       "    </tr>\n",
       "    <tr>\n",
       "      <th>34615</th>\n",
       "      <td>DRAMA</td>\n",
       "      <td>MIRAMAX</td>\n",
       "    </tr>\n",
       "    <tr>\n",
       "      <th>31174</th>\n",
       "      <td>DRAMA</td>\n",
       "      <td>BRITISH SCREEN</td>\n",
       "    </tr>\n",
       "    <tr>\n",
       "      <th>11443</th>\n",
       "      <td>ACTION</td>\n",
       "      <td>CARAVAN PICTURES</td>\n",
       "    </tr>\n",
       "    <tr>\n",
       "      <th>35196</th>\n",
       "      <td>DRAMA</td>\n",
       "      <td>MIRAMAX FILMS</td>\n",
       "    </tr>\n",
       "    <tr>\n",
       "      <th>9312</th>\n",
       "      <td>ACTION</td>\n",
       "      <td>NEW LINE CINEMA</td>\n",
       "    </tr>\n",
       "    <tr>\n",
       "      <th>577</th>\n",
       "      <td>FANTASY</td>\n",
       "      <td>THE RANK ORGANISATION</td>\n",
       "    </tr>\n",
       "    <tr>\n",
       "      <th>11861</th>\n",
       "      <td>DRAMA</td>\n",
       "      <td>UNIVERSAL PICTURES</td>\n",
       "    </tr>\n",
       "    <tr>\n",
       "      <th>807</th>\n",
       "      <td>CRIME</td>\n",
       "      <td>NEW LINE CINEMA</td>\n",
       "    </tr>\n",
       "    <tr>\n",
       "      <th>10530</th>\n",
       "      <td>ADVENTURE</td>\n",
       "      <td>WALT DISNEY PICTURES</td>\n",
       "    </tr>\n",
       "    <tr>\n",
       "      <th>8391</th>\n",
       "      <td>DRAMA</td>\n",
       "      <td>ALLIANCE COMMUNICATIONS CORPORATION</td>\n",
       "    </tr>\n",
       "    <tr>\n",
       "      <th>629</th>\n",
       "      <td>DRAMA</td>\n",
       "      <td>BLUE PARROT PRODUCTIONS</td>\n",
       "    </tr>\n",
       "  </tbody>\n",
       "</table>\n",
       "</div>"
      ],
      "text/plain": [
       "                  genre                                 company\n",
       "id                                                             \n",
       "862           ANIMATION                 PIXAR ANIMATION STUDIOS\n",
       "8844          ADVENTURE                        TRISTAR PICTURES\n",
       "15602           ROMANCE                            WARNER BROS.\n",
       "31357            COMEDY  TWENTIETH CENTURY FOX FILM CORPORATION\n",
       "11862            COMEDY                   SANDOLLAR PRODUCTIONS\n",
       "949              ACTION                     REGENCY ENTERPRISES\n",
       "11860            COMEDY                      PARAMOUNT PICTURES\n",
       "45325            ACTION                    WALT DISNEY PICTURES\n",
       "9091             ACTION                      UNIVERSAL PICTURES\n",
       "710           ADVENTURE                          UNITED ARTISTS\n",
       "9087             COMEDY                       COLUMBIA PICTURES\n",
       "12110            COMEDY                       COLUMBIA PICTURES\n",
       "21032            FAMILY                      UNIVERSAL PICTURES\n",
       "10858           HISTORY                      HOLLYWOOD PICTURES\n",
       "1408             ACTION                        LE STUDIO CANAL+\n",
       "524               DRAMA                      UNIVERSAL PICTURES\n",
       "4584              DRAMA           COLUMBIA PICTURES CORPORATION\n",
       "5                 CRIME                           MIRAMAX FILMS\n",
       "9273              CRIME                         O ENTERTAINMENT\n",
       "11517            ACTION                       COLUMBIA PICTURES\n",
       "8012             COMEDY                            JERSEY FILMS\n",
       "1710              DRAMA                     REGENCY ENTERPRISES\n",
       "9691             ACTION                         SILVER PICTURES\n",
       "12665             DRAMA                        CARAVAN PICTURES\n",
       "451               DRAMA                          UNITED ARTISTS\n",
       "16420             DRAMA                       COLUMBIA PICTURES\n",
       "9263             COMEDY                         NEW LINE CINEMA\n",
       "17015             DRAMA                               BBC FILMS\n",
       "902             FANTASY                                PROCIREP\n",
       "37557             DRAMA       MINISTÈRE DES AFFAIRES ÉTRANGÈRES\n",
       "9909              DRAMA                      HOLLYWOOD PICTURES\n",
       "63      SCIENCE FICTION                      UNIVERSAL PICTURES\n",
       "78802           ROMANCE                    IWERKS ENTERTAINMENT\n",
       "9598            FANTASY                      UNIVERSAL PICTURES\n",
       "47018           HISTORY                             STUDIOCANAL\n",
       "687               DRAMA                                   HAVOC\n",
       "139405        ADVENTURE                   SONY NEW TECHNOLOGIES\n",
       "33689            COMEDY                    DUALSTAR PRODUCTIONS\n",
       "9603             COMEDY                      PARAMOUNT PICTURES\n",
       "34615             DRAMA                                 MIRAMAX\n",
       "31174             DRAMA                          BRITISH SCREEN\n",
       "11443            ACTION                        CARAVAN PICTURES\n",
       "35196             DRAMA                           MIRAMAX FILMS\n",
       "9312             ACTION                         NEW LINE CINEMA\n",
       "577             FANTASY                   THE RANK ORGANISATION\n",
       "11861             DRAMA                      UNIVERSAL PICTURES\n",
       "807               CRIME                         NEW LINE CINEMA\n",
       "10530         ADVENTURE                    WALT DISNEY PICTURES\n",
       "8391              DRAMA     ALLIANCE COMMUNICATIONS CORPORATION\n",
       "629               DRAMA                 BLUE PARROT PRODUCTIONS"
      ]
     },
     "execution_count": 10,
     "metadata": {},
     "output_type": "execute_result"
    }
   ],
   "source": [
    "ac.agg('genre', 'company', peek=True)"
   ]
  },
  {
   "cell_type": "markdown",
   "id": "0a99c146",
   "metadata": {},
   "source": [
    "# Movie Clean Examples"
   ]
  },
  {
   "cell_type": "code",
   "execution_count": 19,
   "id": "12927c1f",
   "metadata": {},
   "outputs": [],
   "source": [
    "import MovieClean.norm as norm"
   ]
  },
  {
   "cell_type": "markdown",
   "id": "e747528c",
   "metadata": {},
   "source": [
    "This package is useful for extracting data stored in json-style strings into either Series or DataFrame object."
   ]
  },
  {
   "cell_type": "code",
   "execution_count": 27,
   "id": "c672e5cb",
   "metadata": {},
   "outputs": [
    {
     "data": {
      "text/html": [
       "<div>\n",
       "<style scoped>\n",
       "    .dataframe tbody tr th:only-of-type {\n",
       "        vertical-align: middle;\n",
       "    }\n",
       "\n",
       "    .dataframe tbody tr th {\n",
       "        vertical-align: top;\n",
       "    }\n",
       "\n",
       "    .dataframe thead th {\n",
       "        text-align: right;\n",
       "    }\n",
       "</style>\n",
       "<table border=\"1\" class=\"dataframe\">\n",
       "  <thead>\n",
       "    <tr style=\"text-align: right;\">\n",
       "      <th></th>\n",
       "      <th>id</th>\n",
       "      <th>actors</th>\n",
       "    </tr>\n",
       "  </thead>\n",
       "  <tbody>\n",
       "    <tr>\n",
       "      <th>0</th>\n",
       "      <td>0</td>\n",
       "      <td>[{'name': 'MacFarlane', 'job': 'actor'}, {'nam...</td>\n",
       "    </tr>\n",
       "    <tr>\n",
       "      <th>1</th>\n",
       "      <td>1</td>\n",
       "      <td>[{'name': 'MacFarlane', 'job': 'actor'}, {'nam...</td>\n",
       "    </tr>\n",
       "    <tr>\n",
       "      <th>2</th>\n",
       "      <td>2</td>\n",
       "      <td>[{'name': 'MacFarlane', 'job': 'actor'}, {'nam...</td>\n",
       "    </tr>\n",
       "    <tr>\n",
       "      <th>3</th>\n",
       "      <td>3</td>\n",
       "      <td>[{'name': 'MacFarlane', 'job': 'actor'}, {'nam...</td>\n",
       "    </tr>\n",
       "    <tr>\n",
       "      <th>4</th>\n",
       "      <td>4</td>\n",
       "      <td>[{'name': 'MacFarlane', 'job': 'actor'}, {'nam...</td>\n",
       "    </tr>\n",
       "    <tr>\n",
       "      <th>5</th>\n",
       "      <td>5</td>\n",
       "      <td>[{'name': 'MacFarlane', 'job': 'actor'}, {'nam...</td>\n",
       "    </tr>\n",
       "    <tr>\n",
       "      <th>6</th>\n",
       "      <td>6</td>\n",
       "      <td>[{'name': 'MacFarlane', 'job': 'actor'}, {'nam...</td>\n",
       "    </tr>\n",
       "    <tr>\n",
       "      <th>7</th>\n",
       "      <td>7</td>\n",
       "      <td>[{'name': 'MacFarlane', 'job': 'actor'}, {'nam...</td>\n",
       "    </tr>\n",
       "    <tr>\n",
       "      <th>8</th>\n",
       "      <td>8</td>\n",
       "      <td>[{'name': 'MacFarlane', 'job': 'actor'}, {'nam...</td>\n",
       "    </tr>\n",
       "    <tr>\n",
       "      <th>9</th>\n",
       "      <td>9</td>\n",
       "      <td>[{'name': 'MacFarlane', 'job': 'actor'}, {'nam...</td>\n",
       "    </tr>\n",
       "  </tbody>\n",
       "</table>\n",
       "</div>"
      ],
      "text/plain": [
       "   id                                             actors\n",
       "0   0  [{'name': 'MacFarlane', 'job': 'actor'}, {'nam...\n",
       "1   1  [{'name': 'MacFarlane', 'job': 'actor'}, {'nam...\n",
       "2   2  [{'name': 'MacFarlane', 'job': 'actor'}, {'nam...\n",
       "3   3  [{'name': 'MacFarlane', 'job': 'actor'}, {'nam...\n",
       "4   4  [{'name': 'MacFarlane', 'job': 'actor'}, {'nam...\n",
       "5   5  [{'name': 'MacFarlane', 'job': 'actor'}, {'nam...\n",
       "6   6  [{'name': 'MacFarlane', 'job': 'actor'}, {'nam...\n",
       "7   7  [{'name': 'MacFarlane', 'job': 'actor'}, {'nam...\n",
       "8   8  [{'name': 'MacFarlane', 'job': 'actor'}, {'nam...\n",
       "9   9  [{'name': 'MacFarlane', 'job': 'actor'}, {'nam..."
      ]
     },
     "execution_count": 27,
     "metadata": {},
     "output_type": "execute_result"
    }
   ],
   "source": [
    "example_json = {'name': 'MacFarlane', 'job': 'actor'}\n",
    "example_frame = pd.DataFrame(\n",
    "    {\n",
    "        'id': range(10),\n",
    "        'actors': [str([example_json]*5)]*10\n",
    "    }\n",
    ")\n",
    "example_frame"
   ]
  },
  {
   "cell_type": "markdown",
   "id": "5c69a941",
   "metadata": {},
   "source": [
    "Notice that in the example_frame, the actors column stores lists of json-style strings, which violates the first normal form of clean data."
   ]
  },
  {
   "cell_type": "markdown",
   "id": "a0c7e950",
   "metadata": {},
   "source": [
    "Such data could be hard to handle with regex and the built-in json.parse function because the mixed useage of single and double quotes and the presence of special characters within the quotes, which violates the json format. "
   ]
  },
  {
   "cell_type": "code",
   "execution_count": 29,
   "id": "c562b96a",
   "metadata": {},
   "outputs": [
    {
     "data": {
      "text/html": [
       "<div>\n",
       "<style scoped>\n",
       "    .dataframe tbody tr th:only-of-type {\n",
       "        vertical-align: middle;\n",
       "    }\n",
       "\n",
       "    .dataframe tbody tr th {\n",
       "        vertical-align: top;\n",
       "    }\n",
       "\n",
       "    .dataframe thead th {\n",
       "        text-align: right;\n",
       "    }\n",
       "</style>\n",
       "<table border=\"1\" class=\"dataframe\">\n",
       "  <thead>\n",
       "    <tr style=\"text-align: right;\">\n",
       "      <th></th>\n",
       "      <th>name</th>\n",
       "      <th>job</th>\n",
       "      <th>id</th>\n",
       "    </tr>\n",
       "  </thead>\n",
       "  <tbody>\n",
       "    <tr>\n",
       "      <th>0</th>\n",
       "      <td>MacFarlane</td>\n",
       "      <td>actor</td>\n",
       "      <td>0</td>\n",
       "    </tr>\n",
       "    <tr>\n",
       "      <th>1</th>\n",
       "      <td>MacFarlane</td>\n",
       "      <td>actor</td>\n",
       "      <td>0</td>\n",
       "    </tr>\n",
       "    <tr>\n",
       "      <th>2</th>\n",
       "      <td>MacFarlane</td>\n",
       "      <td>actor</td>\n",
       "      <td>0</td>\n",
       "    </tr>\n",
       "    <tr>\n",
       "      <th>3</th>\n",
       "      <td>MacFarlane</td>\n",
       "      <td>actor</td>\n",
       "      <td>0</td>\n",
       "    </tr>\n",
       "    <tr>\n",
       "      <th>4</th>\n",
       "      <td>MacFarlane</td>\n",
       "      <td>actor</td>\n",
       "      <td>0</td>\n",
       "    </tr>\n",
       "  </tbody>\n",
       "</table>\n",
       "</div>"
      ],
      "text/plain": [
       "         name    job  id\n",
       "0  MacFarlane  actor   0\n",
       "1  MacFarlane  actor   0\n",
       "2  MacFarlane  actor   0\n",
       "3  MacFarlane  actor   0\n",
       "4  MacFarlane  actor   0"
      ]
     },
     "execution_count": 29,
     "metadata": {},
     "output_type": "execute_result"
    }
   ],
   "source": [
    "norm.json2df(example_frame, 'actors', 'id').head()"
   ]
  },
  {
   "cell_type": "markdown",
   "id": "75d8b86e",
   "metadata": {},
   "source": [
    "Note: Since there are multiple data entries within a cell, the total amount of data extracted might be bigger than expected, which is slow to process. Thus, it is recommended to use .json2series to extract a single key-value pair of interest."
   ]
  },
  {
   "cell_type": "code",
   "execution_count": 31,
   "id": "695af0f8",
   "metadata": {},
   "outputs": [
    {
     "data": {
      "text/plain": [
       "id\n",
       "0    MacFarlane\n",
       "1    MacFarlane\n",
       "2    MacFarlane\n",
       "3    MacFarlane\n",
       "4    MacFarlane\n",
       "Name: name, dtype: object"
      ]
     },
     "execution_count": 31,
     "metadata": {},
     "output_type": "execute_result"
    }
   ],
   "source": [
    "norm.json2series(example_frame, 'actors', 'name', 'id').head()"
   ]
  },
  {
   "cell_type": "markdown",
   "id": "3e74b85d",
   "metadata": {},
   "source": [
    "Sometimes you may find the index of a dataframe is 'object' but you intend to make it int. "
   ]
  },
  {
   "cell_type": "code",
   "execution_count": 36,
   "id": "c8aeb307",
   "metadata": {},
   "outputs": [
    {
     "data": {
      "text/plain": [
       "Index(['0', '1', '2', '3', '4', '5', '6', '7', '8', '9'], dtype='object', name='id')"
      ]
     },
     "execution_count": 36,
     "metadata": {},
     "output_type": "execute_result"
    }
   ],
   "source": [
    "example_frame = pd.DataFrame({\n",
    "    'id': [str(num) for num in range(10)],\n",
    "    'actors': ['Lois'] * 10\n",
    "})\n",
    "example_frame.set_index('id').index"
   ]
  },
  {
   "cell_type": "code",
   "execution_count": 38,
   "id": "a2c4281f",
   "metadata": {},
   "outputs": [
    {
     "data": {
      "text/plain": [
       "Int64Index([0, 1, 2, 3, 4, 5, 6, 7, 8, 9], dtype='int64', name='id')"
      ]
     },
     "execution_count": 38,
     "metadata": {},
     "output_type": "execute_result"
    }
   ],
   "source": [
    "# Easy way to convert it\n",
    "norm.id2int(example_frame).index"
   ]
  },
  {
   "cell_type": "markdown",
   "id": "03aa5956",
   "metadata": {},
   "source": [
    "For simple categorical feature, you can encode it."
   ]
  },
  {
   "cell_type": "code",
   "execution_count": 39,
   "id": "7abfad01",
   "metadata": {},
   "outputs": [
    {
     "data": {
      "text/html": [
       "<div>\n",
       "<style scoped>\n",
       "    .dataframe tbody tr th:only-of-type {\n",
       "        vertical-align: middle;\n",
       "    }\n",
       "\n",
       "    .dataframe tbody tr th {\n",
       "        vertical-align: top;\n",
       "    }\n",
       "\n",
       "    .dataframe thead th {\n",
       "        text-align: right;\n",
       "    }\n",
       "</style>\n",
       "<table border=\"1\" class=\"dataframe\">\n",
       "  <thead>\n",
       "    <tr style=\"text-align: right;\">\n",
       "      <th></th>\n",
       "      <th>id</th>\n",
       "      <th>actors</th>\n",
       "    </tr>\n",
       "  </thead>\n",
       "  <tbody>\n",
       "    <tr>\n",
       "      <th>0</th>\n",
       "      <td>0</td>\n",
       "      <td>actor</td>\n",
       "    </tr>\n",
       "    <tr>\n",
       "      <th>1</th>\n",
       "      <td>1</td>\n",
       "      <td>director</td>\n",
       "    </tr>\n",
       "    <tr>\n",
       "      <th>2</th>\n",
       "      <td>2</td>\n",
       "      <td>screen_writer</td>\n",
       "    </tr>\n",
       "    <tr>\n",
       "      <th>3</th>\n",
       "      <td>3</td>\n",
       "      <td>actor</td>\n",
       "    </tr>\n",
       "    <tr>\n",
       "      <th>4</th>\n",
       "      <td>4</td>\n",
       "      <td>director</td>\n",
       "    </tr>\n",
       "    <tr>\n",
       "      <th>5</th>\n",
       "      <td>5</td>\n",
       "      <td>screen_writer</td>\n",
       "    </tr>\n",
       "    <tr>\n",
       "      <th>6</th>\n",
       "      <td>6</td>\n",
       "      <td>actor</td>\n",
       "    </tr>\n",
       "    <tr>\n",
       "      <th>7</th>\n",
       "      <td>7</td>\n",
       "      <td>director</td>\n",
       "    </tr>\n",
       "    <tr>\n",
       "      <th>8</th>\n",
       "      <td>8</td>\n",
       "      <td>screen_writer</td>\n",
       "    </tr>\n",
       "    <tr>\n",
       "      <th>9</th>\n",
       "      <td>9</td>\n",
       "      <td>actor</td>\n",
       "    </tr>\n",
       "  </tbody>\n",
       "</table>\n",
       "</div>"
      ],
      "text/plain": [
       "   id         actors\n",
       "0   0          actor\n",
       "1   1       director\n",
       "2   2  screen_writer\n",
       "3   3          actor\n",
       "4   4       director\n",
       "5   5  screen_writer\n",
       "6   6          actor\n",
       "7   7       director\n",
       "8   8  screen_writer\n",
       "9   9          actor"
      ]
     },
     "execution_count": 39,
     "metadata": {},
     "output_type": "execute_result"
    }
   ],
   "source": [
    "cat = ['actor', 'director', 'screen_writer']\n",
    "example_frame = pd.DataFrame({\n",
    "    'id': range(10),\n",
    "    'actors': [cat[num%3] for num in range(10)]\n",
    "})\n",
    "example_frame"
   ]
  },
  {
   "cell_type": "code",
   "execution_count": 41,
   "id": "b295648b",
   "metadata": {},
   "outputs": [
    {
     "name": "stderr",
     "output_type": "stream",
     "text": [
      "/workspaces/CSE314Final/MovieClean/norm.py:138: FutureWarning: In a future version, `df.iloc[:, i] = newvals` will attempt to set the values inplace instead of always setting a new array. To retain the old behavior, use either `df[df.columns[i]] = newvals` or, if columns are non-unique, `df.isetitem(i, newvals)`\n",
      "  data.loc[:, col_name] = data[col_name].apply(lambda x: mapping[x])\n"
     ]
    },
    {
     "data": {
      "text/plain": [
       "0            actor\n",
       "1         director\n",
       "2    screen_writer\n",
       "Name: actors_map, dtype: object"
      ]
     },
     "execution_count": 41,
     "metadata": {},
     "output_type": "execute_result"
    }
   ],
   "source": [
    "# Encode\n",
    "norm.cat_encode(example_frame, 'actors')"
   ]
  },
  {
   "cell_type": "code",
   "execution_count": 42,
   "id": "4cd85892",
   "metadata": {},
   "outputs": [
    {
     "data": {
      "text/html": [
       "<div>\n",
       "<style scoped>\n",
       "    .dataframe tbody tr th:only-of-type {\n",
       "        vertical-align: middle;\n",
       "    }\n",
       "\n",
       "    .dataframe tbody tr th {\n",
       "        vertical-align: top;\n",
       "    }\n",
       "\n",
       "    .dataframe thead th {\n",
       "        text-align: right;\n",
       "    }\n",
       "</style>\n",
       "<table border=\"1\" class=\"dataframe\">\n",
       "  <thead>\n",
       "    <tr style=\"text-align: right;\">\n",
       "      <th></th>\n",
       "      <th>id</th>\n",
       "      <th>actors</th>\n",
       "    </tr>\n",
       "  </thead>\n",
       "  <tbody>\n",
       "    <tr>\n",
       "      <th>0</th>\n",
       "      <td>0</td>\n",
       "      <td>0</td>\n",
       "    </tr>\n",
       "    <tr>\n",
       "      <th>1</th>\n",
       "      <td>1</td>\n",
       "      <td>1</td>\n",
       "    </tr>\n",
       "    <tr>\n",
       "      <th>2</th>\n",
       "      <td>2</td>\n",
       "      <td>2</td>\n",
       "    </tr>\n",
       "    <tr>\n",
       "      <th>3</th>\n",
       "      <td>3</td>\n",
       "      <td>0</td>\n",
       "    </tr>\n",
       "    <tr>\n",
       "      <th>4</th>\n",
       "      <td>4</td>\n",
       "      <td>1</td>\n",
       "    </tr>\n",
       "    <tr>\n",
       "      <th>5</th>\n",
       "      <td>5</td>\n",
       "      <td>2</td>\n",
       "    </tr>\n",
       "    <tr>\n",
       "      <th>6</th>\n",
       "      <td>6</td>\n",
       "      <td>0</td>\n",
       "    </tr>\n",
       "    <tr>\n",
       "      <th>7</th>\n",
       "      <td>7</td>\n",
       "      <td>1</td>\n",
       "    </tr>\n",
       "    <tr>\n",
       "      <th>8</th>\n",
       "      <td>8</td>\n",
       "      <td>2</td>\n",
       "    </tr>\n",
       "    <tr>\n",
       "      <th>9</th>\n",
       "      <td>9</td>\n",
       "      <td>0</td>\n",
       "    </tr>\n",
       "  </tbody>\n",
       "</table>\n",
       "</div>"
      ],
      "text/plain": [
       "   id  actors\n",
       "0   0       0\n",
       "1   1       1\n",
       "2   2       2\n",
       "3   3       0\n",
       "4   4       1\n",
       "5   5       2\n",
       "6   6       0\n",
       "7   7       1\n",
       "8   8       2\n",
       "9   9       0"
      ]
     },
     "execution_count": 42,
     "metadata": {},
     "output_type": "execute_result"
    }
   ],
   "source": [
    "example_frame"
   ]
  },
  {
   "cell_type": "code",
   "execution_count": null,
   "id": "77bd9bd6",
   "metadata": {},
   "outputs": [],
   "source": []
  }
 ],
 "metadata": {
  "kernelspec": {
   "display_name": "Python 3.10.6 ('general')",
   "language": "python",
   "name": "python3"
  },
  "language_info": {
   "codemirror_mode": {
    "name": "ipython",
    "version": 3
   },
   "file_extension": ".py",
   "mimetype": "text/x-python",
   "name": "python",
   "nbconvert_exporter": "python",
   "pygments_lexer": "ipython3",
   "version": "3.10.6"
  },
  "vscode": {
   "interpreter": {
    "hash": "62e819541017164454e61defd27fa4b42c251a47179adb8ce6cc181bbbc8f95a"
   }
  }
 },
 "nbformat": 4,
 "nbformat_minor": 5
}
