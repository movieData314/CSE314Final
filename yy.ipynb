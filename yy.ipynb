{
 "cells": [
  {
   "cell_type": "code",
   "execution_count": 92,
   "metadata": {},
   "outputs": [],
   "source": [
    "import pandas as pd\n",
    "import matplotlib as plt"
   ]
  },
  {
   "cell_type": "code",
   "execution_count": 25,
   "metadata": {},
   "outputs": [],
   "source": [
    "df = pd.read_csv(\"data/clean_movie.csv\")"
   ]
  },
  {
   "cell_type": "code",
   "execution_count": 26,
   "metadata": {},
   "outputs": [],
   "source": [
    "df_2 = df[[\"revenue\",\"budget\",\"id\"]]"
   ]
  },
  {
   "cell_type": "code",
   "execution_count": 27,
   "metadata": {},
   "outputs": [],
   "source": [
    "df_genre = pd.read_csv(\"data/genres.csv\")"
   ]
  },
  {
   "cell_type": "code",
   "execution_count": 28,
   "metadata": {},
   "outputs": [],
   "source": [
    "df_final = pd.merge(df_2, df_genre, on=['id'])"
   ]
  },
  {
   "cell_type": "code",
   "execution_count": 29,
   "metadata": {},
   "outputs": [],
   "source": [
    "df_final[\"profit\"] = df_final[\"revenue\"] - df_final[\"budget\"]"
   ]
  },
  {
   "cell_type": "code",
   "execution_count": 30,
   "metadata": {},
   "outputs": [
    {
     "data": {
      "text/html": [
       "<div>\n",
       "<style scoped>\n",
       "    .dataframe tbody tr th:only-of-type {\n",
       "        vertical-align: middle;\n",
       "    }\n",
       "\n",
       "    .dataframe tbody tr th {\n",
       "        vertical-align: top;\n",
       "    }\n",
       "\n",
       "    .dataframe thead th {\n",
       "        text-align: right;\n",
       "    }\n",
       "</style>\n",
       "<table border=\"1\" class=\"dataframe\">\n",
       "  <thead>\n",
       "    <tr style=\"text-align: right;\">\n",
       "      <th></th>\n",
       "      <th>revenue</th>\n",
       "      <th>budget</th>\n",
       "      <th>id</th>\n",
       "      <th>genre</th>\n",
       "      <th>profit</th>\n",
       "    </tr>\n",
       "  </thead>\n",
       "  <tbody>\n",
       "    <tr>\n",
       "      <th>0</th>\n",
       "      <td>373554033.0</td>\n",
       "      <td>30000000</td>\n",
       "      <td>862</td>\n",
       "      <td>Animation</td>\n",
       "      <td>343554033.0</td>\n",
       "    </tr>\n",
       "    <tr>\n",
       "      <th>1</th>\n",
       "      <td>373554033.0</td>\n",
       "      <td>30000000</td>\n",
       "      <td>862</td>\n",
       "      <td>Comedy</td>\n",
       "      <td>343554033.0</td>\n",
       "    </tr>\n",
       "    <tr>\n",
       "      <th>2</th>\n",
       "      <td>373554033.0</td>\n",
       "      <td>30000000</td>\n",
       "      <td>862</td>\n",
       "      <td>Family</td>\n",
       "      <td>343554033.0</td>\n",
       "    </tr>\n",
       "    <tr>\n",
       "      <th>3</th>\n",
       "      <td>262797249.0</td>\n",
       "      <td>65000000</td>\n",
       "      <td>8844</td>\n",
       "      <td>Adventure</td>\n",
       "      <td>197797249.0</td>\n",
       "    </tr>\n",
       "    <tr>\n",
       "      <th>4</th>\n",
       "      <td>262797249.0</td>\n",
       "      <td>65000000</td>\n",
       "      <td>8844</td>\n",
       "      <td>Fantasy</td>\n",
       "      <td>197797249.0</td>\n",
       "    </tr>\n",
       "    <tr>\n",
       "      <th>...</th>\n",
       "      <td>...</td>\n",
       "      <td>...</td>\n",
       "      <td>...</td>\n",
       "      <td>...</td>\n",
       "      <td>...</td>\n",
       "    </tr>\n",
       "    <tr>\n",
       "      <th>89793</th>\n",
       "      <td>0.0</td>\n",
       "      <td>0</td>\n",
       "      <td>30840</td>\n",
       "      <td>Romance</td>\n",
       "      <td>0.0</td>\n",
       "    </tr>\n",
       "    <tr>\n",
       "      <th>89794</th>\n",
       "      <td>0.0</td>\n",
       "      <td>0</td>\n",
       "      <td>111109</td>\n",
       "      <td>Drama</td>\n",
       "      <td>0.0</td>\n",
       "    </tr>\n",
       "    <tr>\n",
       "      <th>89795</th>\n",
       "      <td>0.0</td>\n",
       "      <td>0</td>\n",
       "      <td>67758</td>\n",
       "      <td>Action</td>\n",
       "      <td>0.0</td>\n",
       "    </tr>\n",
       "    <tr>\n",
       "      <th>89796</th>\n",
       "      <td>0.0</td>\n",
       "      <td>0</td>\n",
       "      <td>67758</td>\n",
       "      <td>Drama</td>\n",
       "      <td>0.0</td>\n",
       "    </tr>\n",
       "    <tr>\n",
       "      <th>89797</th>\n",
       "      <td>0.0</td>\n",
       "      <td>0</td>\n",
       "      <td>67758</td>\n",
       "      <td>Thriller</td>\n",
       "      <td>0.0</td>\n",
       "    </tr>\n",
       "  </tbody>\n",
       "</table>\n",
       "<p>89798 rows × 5 columns</p>\n",
       "</div>"
      ],
      "text/plain": [
       "           revenue    budget      id      genre       profit\n",
       "0      373554033.0  30000000     862  Animation  343554033.0\n",
       "1      373554033.0  30000000     862     Comedy  343554033.0\n",
       "2      373554033.0  30000000     862     Family  343554033.0\n",
       "3      262797249.0  65000000    8844  Adventure  197797249.0\n",
       "4      262797249.0  65000000    8844    Fantasy  197797249.0\n",
       "...            ...       ...     ...        ...          ...\n",
       "89793          0.0         0   30840    Romance          0.0\n",
       "89794          0.0         0  111109      Drama          0.0\n",
       "89795          0.0         0   67758     Action          0.0\n",
       "89796          0.0         0   67758      Drama          0.0\n",
       "89797          0.0         0   67758   Thriller          0.0\n",
       "\n",
       "[89798 rows x 5 columns]"
      ]
     },
     "execution_count": 30,
     "metadata": {},
     "output_type": "execute_result"
    }
   ],
   "source": [
    "df_final"
   ]
  },
  {
   "cell_type": "code",
   "execution_count": 69,
   "metadata": {},
   "outputs": [],
   "source": [
    "df_final_2 = df_final[(df_final.revenue !=0) & (df_final.budget!= 0)]"
   ]
  },
  {
   "cell_type": "code",
   "execution_count": 71,
   "metadata": {},
   "outputs": [
    {
     "data": {
      "text/html": [
       "<div>\n",
       "<style scoped>\n",
       "    .dataframe tbody tr th:only-of-type {\n",
       "        vertical-align: middle;\n",
       "    }\n",
       "\n",
       "    .dataframe tbody tr th {\n",
       "        vertical-align: top;\n",
       "    }\n",
       "\n",
       "    .dataframe thead th {\n",
       "        text-align: right;\n",
       "    }\n",
       "</style>\n",
       "<table border=\"1\" class=\"dataframe\">\n",
       "  <thead>\n",
       "    <tr style=\"text-align: right;\">\n",
       "      <th></th>\n",
       "      <th>revenue</th>\n",
       "      <th>budget</th>\n",
       "      <th>id</th>\n",
       "      <th>genre</th>\n",
       "      <th>profit</th>\n",
       "    </tr>\n",
       "  </thead>\n",
       "  <tbody>\n",
       "  </tbody>\n",
       "</table>\n",
       "</div>"
      ],
      "text/plain": [
       "Empty DataFrame\n",
       "Columns: [revenue, budget, id, genre, profit]\n",
       "Index: []"
      ]
     },
     "execution_count": 71,
     "metadata": {},
     "output_type": "execute_result"
    }
   ],
   "source": [
    "df_final_2[df_final_2[\"revenue\"]==0]"
   ]
  },
  {
   "cell_type": "code",
   "execution_count": 72,
   "metadata": {},
   "outputs": [
    {
     "data": {
      "text/html": [
       "<div>\n",
       "<style scoped>\n",
       "    .dataframe tbody tr th:only-of-type {\n",
       "        vertical-align: middle;\n",
       "    }\n",
       "\n",
       "    .dataframe tbody tr th {\n",
       "        vertical-align: top;\n",
       "    }\n",
       "\n",
       "    .dataframe thead th {\n",
       "        text-align: right;\n",
       "    }\n",
       "</style>\n",
       "<table border=\"1\" class=\"dataframe\">\n",
       "  <thead>\n",
       "    <tr style=\"text-align: right;\">\n",
       "      <th></th>\n",
       "      <th>revenue</th>\n",
       "      <th>budget</th>\n",
       "      <th>id</th>\n",
       "      <th>genre</th>\n",
       "      <th>profit</th>\n",
       "    </tr>\n",
       "  </thead>\n",
       "  <tbody>\n",
       "  </tbody>\n",
       "</table>\n",
       "</div>"
      ],
      "text/plain": [
       "Empty DataFrame\n",
       "Columns: [revenue, budget, id, genre, profit]\n",
       "Index: []"
      ]
     },
     "execution_count": 72,
     "metadata": {},
     "output_type": "execute_result"
    }
   ],
   "source": [
    "df_final_2[df_final_2[\"budget\"]==0]"
   ]
  },
  {
   "cell_type": "code",
   "execution_count": 73,
   "metadata": {},
   "outputs": [
    {
     "data": {
      "text/plain": [
       "revenue    0\n",
       "budget     0\n",
       "id         0\n",
       "genre      0\n",
       "profit     0\n",
       "dtype: int64"
      ]
     },
     "execution_count": 73,
     "metadata": {},
     "output_type": "execute_result"
    }
   ],
   "source": [
    "df_final_2.isnull().sum()"
   ]
  },
  {
   "cell_type": "code",
   "execution_count": 74,
   "metadata": {},
   "outputs": [
    {
     "data": {
      "text/html": [
       "<div>\n",
       "<style scoped>\n",
       "    .dataframe tbody tr th:only-of-type {\n",
       "        vertical-align: middle;\n",
       "    }\n",
       "\n",
       "    .dataframe tbody tr th {\n",
       "        vertical-align: top;\n",
       "    }\n",
       "\n",
       "    .dataframe thead th {\n",
       "        text-align: right;\n",
       "    }\n",
       "</style>\n",
       "<table border=\"1\" class=\"dataframe\">\n",
       "  <thead>\n",
       "    <tr style=\"text-align: right;\">\n",
       "      <th></th>\n",
       "      <th>revenue</th>\n",
       "      <th>budget</th>\n",
       "      <th>id</th>\n",
       "      <th>genre</th>\n",
       "      <th>profit</th>\n",
       "    </tr>\n",
       "  </thead>\n",
       "  <tbody>\n",
       "    <tr>\n",
       "      <th>0</th>\n",
       "      <td>373554033.0</td>\n",
       "      <td>30000000</td>\n",
       "      <td>862</td>\n",
       "      <td>Animation</td>\n",
       "      <td>343554033.0</td>\n",
       "    </tr>\n",
       "    <tr>\n",
       "      <th>1</th>\n",
       "      <td>373554033.0</td>\n",
       "      <td>30000000</td>\n",
       "      <td>862</td>\n",
       "      <td>Comedy</td>\n",
       "      <td>343554033.0</td>\n",
       "    </tr>\n",
       "    <tr>\n",
       "      <th>2</th>\n",
       "      <td>373554033.0</td>\n",
       "      <td>30000000</td>\n",
       "      <td>862</td>\n",
       "      <td>Family</td>\n",
       "      <td>343554033.0</td>\n",
       "    </tr>\n",
       "    <tr>\n",
       "      <th>3</th>\n",
       "      <td>262797249.0</td>\n",
       "      <td>65000000</td>\n",
       "      <td>8844</td>\n",
       "      <td>Adventure</td>\n",
       "      <td>197797249.0</td>\n",
       "    </tr>\n",
       "    <tr>\n",
       "      <th>4</th>\n",
       "      <td>262797249.0</td>\n",
       "      <td>65000000</td>\n",
       "      <td>8844</td>\n",
       "      <td>Fantasy</td>\n",
       "      <td>197797249.0</td>\n",
       "    </tr>\n",
       "    <tr>\n",
       "      <th>...</th>\n",
       "      <td>...</td>\n",
       "      <td>...</td>\n",
       "      <td>...</td>\n",
       "      <td>...</td>\n",
       "      <td>...</td>\n",
       "    </tr>\n",
       "    <tr>\n",
       "      <th>89699</th>\n",
       "      <td>1268793.0</td>\n",
       "      <td>2000000</td>\n",
       "      <td>63281</td>\n",
       "      <td>Drama</td>\n",
       "      <td>-731207.0</td>\n",
       "    </tr>\n",
       "    <tr>\n",
       "      <th>89716</th>\n",
       "      <td>1413000.0</td>\n",
       "      <td>5000000</td>\n",
       "      <td>63898</td>\n",
       "      <td>Action</td>\n",
       "      <td>-3587000.0</td>\n",
       "    </tr>\n",
       "    <tr>\n",
       "      <th>89717</th>\n",
       "      <td>1413000.0</td>\n",
       "      <td>5000000</td>\n",
       "      <td>63898</td>\n",
       "      <td>Comedy</td>\n",
       "      <td>-3587000.0</td>\n",
       "    </tr>\n",
       "    <tr>\n",
       "      <th>89718</th>\n",
       "      <td>1413000.0</td>\n",
       "      <td>5000000</td>\n",
       "      <td>63898</td>\n",
       "      <td>Crime</td>\n",
       "      <td>-3587000.0</td>\n",
       "    </tr>\n",
       "    <tr>\n",
       "      <th>89719</th>\n",
       "      <td>1413000.0</td>\n",
       "      <td>5000000</td>\n",
       "      <td>63898</td>\n",
       "      <td>Foreign</td>\n",
       "      <td>-3587000.0</td>\n",
       "    </tr>\n",
       "  </tbody>\n",
       "</table>\n",
       "<p>14029 rows × 5 columns</p>\n",
       "</div>"
      ],
      "text/plain": [
       "           revenue    budget     id      genre       profit\n",
       "0      373554033.0  30000000    862  Animation  343554033.0\n",
       "1      373554033.0  30000000    862     Comedy  343554033.0\n",
       "2      373554033.0  30000000    862     Family  343554033.0\n",
       "3      262797249.0  65000000   8844  Adventure  197797249.0\n",
       "4      262797249.0  65000000   8844    Fantasy  197797249.0\n",
       "...            ...       ...    ...        ...          ...\n",
       "89699    1268793.0   2000000  63281      Drama    -731207.0\n",
       "89716    1413000.0   5000000  63898     Action   -3587000.0\n",
       "89717    1413000.0   5000000  63898     Comedy   -3587000.0\n",
       "89718    1413000.0   5000000  63898      Crime   -3587000.0\n",
       "89719    1413000.0   5000000  63898    Foreign   -3587000.0\n",
       "\n",
       "[14029 rows x 5 columns]"
      ]
     },
     "execution_count": 74,
     "metadata": {},
     "output_type": "execute_result"
    }
   ],
   "source": [
    "df_final_2"
   ]
  },
  {
   "cell_type": "code",
   "execution_count": 94,
   "metadata": {},
   "outputs": [
    {
     "data": {
      "text/plain": [
       "<AxesSubplot: xlabel='genre'>"
      ]
     },
     "execution_count": 94,
     "metadata": {},
     "output_type": "execute_result"
    },
    {
     "data": {
      "image/png": "[encoded data removed]",
      "text/plain": [
       "<Figure size 640x480 with 1 Axes>"
      ]
     },
     "metadata": {},
     "output_type": "display_data"
    }
   ],
   "source": [
    "df_final_2.groupby(\"genre\")[\"profit\"].median().to_frame().plot(kind=\"bar\")"
   ]
  },
  {
   "cell_type": "code",
   "execution_count": null,
   "metadata": {},
   "outputs": [],
   "source": []
  }
 ],
 "metadata": {
  "kernelspec": {
   "display_name": "Python 3.10.7 64-bit",
   "language": "python",
   "name": "python3"
  },
  "language_info": {
   "codemirror_mode": {
    "name": "ipython",
    "version": 3
   },
   "file_extension": ".py",
   "mimetype": "text/x-python",
   "name": "python",
   "nbconvert_exporter": "python",
   "pygments_lexer": "ipython3",
   "version": "3.10.7"
  },
  "orig_nbformat": 4,
  "vscode": {
   "interpreter": {
    "hash": "aee8b7b246df8f9039afb4144a1f6fd8d2ca17a180786b69acc140d282b71a49"
   }
  }
 },
 "nbformat": 4,
 "nbformat_minor": 2
}
